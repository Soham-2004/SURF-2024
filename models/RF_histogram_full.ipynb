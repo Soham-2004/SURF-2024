{
  "nbformat": 4,
  "nbformat_minor": 0,
  "metadata": {
    "colab": {
      "provenance": []
    },
    "kernelspec": {
      "name": "python3",
      "display_name": "Python 3"
    },
    "language_info": {
      "name": "python"
    }
  },
  "cells": [
    {
      "cell_type": "code",
      "execution_count": 1,
      "metadata": {
        "colab": {
          "base_uri": "https://localhost:8080/"
        },
        "id": "DbIinlXfp8Ea",
        "outputId": "71f414ba-1eb1-41dd-ef66-71ad834c0951"
      },
      "outputs": [
        {
          "output_type": "stream",
          "name": "stdout",
          "text": [
            "Mounted at /content/drive\n"
          ]
        }
      ],
      "source": [
        "import os\n",
        "import pandas as pd\n",
        "import numpy as np\n",
        "from sklearn.model_selection import train_test_split\n",
        "from sklearn.preprocessing import StandardScaler\n",
        "from tensorflow.keras.models import Sequential\n",
        "from tensorflow.keras.layers import Dense\n",
        "from sklearn.metrics import classification_report, confusion_matrix, roc_auc_score\n",
        "from google.colab import drive\n",
        "from sklearn.ensemble import RandomForestClassifier\n",
        "\n",
        "drive.mount('/content/drive')\n",
        "data_directory = '/content/drive/My Drive/data'\n",
        "all_files = [os.path.join(data_directory, f) for f in os.listdir(data_directory) if f.endswith('.txt')]\n",
        "\n",
        "all_data = []\n",
        "for file_path in all_files:\n",
        "    data = []\n",
        "    hist = []\n",
        "    with open(file_path, 'r') as file:\n",
        "        skip_header = True\n",
        "        for line in file:\n",
        "            if skip_header:\n",
        "                skip_header = False\n",
        "                continue\n",
        "            parts = line.split()\n",
        "            if len(parts) == 3:\n",
        "                if hist:\n",
        "                    data.append(hist)\n",
        "                hist = [int(x) for x in parts]\n",
        "            else:\n",
        "                hist.extend(map(int, parts))\n",
        "    if hist:\n",
        "        data.append(hist)\n",
        "\n",
        "    cols = ['year', 'day', 'hour'] + [f'bin_{i+1}' for i in range(60)]\n",
        "    df = pd.DataFrame(data, columns=cols)\n",
        "    all_data.append(df)\n",
        "\n",
        "full_data = pd.concat(all_data, ignore_index=True)\n",
        "\n",
        "he3_start = int((2.7 - 2) / 0.05)\n",
        "he3_end = int((3.3 - 2) / 0.05)\n",
        "he4_start = int((3.7 - 2) / 0.05)\n",
        "he4_end = int((4.3 - 2) / 0.05)\n",
        "full_data['He-3'] = full_data.iloc[:, 3+he3_start:3+he3_end+1].sum(axis=1)\n",
        "full_data['He-4'] = full_data.iloc[:, 3+he4_start:3+he4_end+1].sum(axis=1)\n",
        "full_data['He-3 Rich'] = ((full_data['He-3'] >= 0.5 * full_data['He-4']) & ((full_data['He-3'] + full_data['He-4']) >= 20)).astype(int)"
      ]
    },
    {
      "cell_type": "code",
      "source": [
        "print(\"columns:\")\n",
        "print(full_data.columns)\n",
        "print(\"\\nrows:\")\n",
        "print(full_data.head(2))\n",
        "print(\"\\ncolumn stats\")\n",
        "print(full_data.groupby('He-3 Rich').describe().transpose())"
      ],
      "metadata": {
        "colab": {
          "base_uri": "https://localhost:8080/"
        },
        "id": "VrxwWZADfYXf",
        "outputId": "04686069-fa0c-4d7b-bad9-61b3bff308b8"
      },
      "execution_count": 2,
      "outputs": [
        {
          "output_type": "stream",
          "name": "stdout",
          "text": [
            "columns:\n",
            "Index(['year', 'day', 'hour', 'bin_1', 'bin_2', 'bin_3', 'bin_4', 'bin_5',\n",
            "       'bin_6', 'bin_7', 'bin_8', 'bin_9', 'bin_10', 'bin_11', 'bin_12',\n",
            "       'bin_13', 'bin_14', 'bin_15', 'bin_16', 'bin_17', 'bin_18', 'bin_19',\n",
            "       'bin_20', 'bin_21', 'bin_22', 'bin_23', 'bin_24', 'bin_25', 'bin_26',\n",
            "       'bin_27', 'bin_28', 'bin_29', 'bin_30', 'bin_31', 'bin_32', 'bin_33',\n",
            "       'bin_34', 'bin_35', 'bin_36', 'bin_37', 'bin_38', 'bin_39', 'bin_40',\n",
            "       'bin_41', 'bin_42', 'bin_43', 'bin_44', 'bin_45', 'bin_46', 'bin_47',\n",
            "       'bin_48', 'bin_49', 'bin_50', 'bin_51', 'bin_52', 'bin_53', 'bin_54',\n",
            "       'bin_55', 'bin_56', 'bin_57', 'bin_58', 'bin_59', 'bin_60', 'He-3',\n",
            "       'He-4', 'He-3 Rich'],\n",
            "      dtype='object')\n",
            "\n",
            "rows:\n",
            "   year  day  hour  bin_1  bin_2  bin_3  bin_4  bin_5  bin_6  bin_7  ...  \\\n",
            "0  2016  280     0      0      0      0      0      0      0      0  ...   \n",
            "1  2016  280     1      0      0      0      0      0      0      0  ...   \n",
            "\n",
            "   bin_54  bin_55  bin_56  bin_57  bin_58  bin_59  bin_60  He-3  He-4  \\\n",
            "0       0       0       0       0       0       0       0     0     1   \n",
            "1       0       0       0       0       0       0       0     0     4   \n",
            "\n",
            "   He-3 Rich  \n",
            "0          0  \n",
            "1          0  \n",
            "\n",
            "[2 rows x 66 columns]\n",
            "\n",
            "column stats\n",
            "He-3 Rich               0            1\n",
            "year count  147405.000000   339.000000\n",
            "     mean     2019.713626  2022.185841\n",
            "     std         2.445857     1.977157\n",
            "     min      2016.000000  2016.000000\n",
            "     25%      2018.000000  2022.000000\n",
            "...                   ...          ...\n",
            "He-4 min         0.000000     0.000000\n",
            "     25%         1.000000    11.000000\n",
            "     50%         3.000000    16.000000\n",
            "     75%         7.000000    25.000000\n",
            "     max       437.000000    66.000000\n",
            "\n",
            "[520 rows x 2 columns]\n"
          ]
        }
      ]
    },
    {
      "cell_type": "code",
      "source": [
        "X = full_data[[f'bin_{i+1}' for i in range(60)]]\n",
        "y = full_data['He-3 Rich']\n",
        "X_train, X_test, y_train, y_test = train_test_split(X, y, test_size=0.3, random_state=42)\n",
        "\n",
        "scaler = StandardScaler()\n",
        "X_train_scaled = scaler.fit_transform(X_train)\n",
        "X_test_scaled = scaler.transform(X_test)"
      ],
      "metadata": {
        "id": "vzVSho6ReOSN"
      },
      "execution_count": 3,
      "outputs": []
    },
    {
      "cell_type": "code",
      "source": [
        "rf_model = RandomForestClassifier(n_estimators=100, random_state=42)\n",
        "rf_model.fit(X_train, y_train)\n",
        "rf_predictions = rf_model.predict(X_test)\n",
        "rf_probs = rf_model.predict_proba(X_test)[:, 1]\n",
        "\n",
        "print(\"report:\")\n",
        "print(classification_report(y_test, rf_predictions))\n",
        "\n",
        "imps = rf_model.feature_importances_\n",
        "sorted_idx = np.argsort(imps)[::-1]\n",
        "imp_df = pd.DataFrame({'feature': X_train.columns[sorted_idx],'importance': imps[sorted_idx]})\n",
        "\n",
        "print(\"important features:\")\n",
        "print(imp_df)\n",
        "\n",
        "print(\"\\nconfusion matrix:\")\n",
        "print(confusion_matrix(y_test, rf_predictions))"
      ],
      "metadata": {
        "id": "9JsOeWJUdlBh",
        "colab": {
          "base_uri": "https://localhost:8080/"
        },
        "outputId": "112aac03-95fe-43fc-8ee8-821df983b046"
      },
      "execution_count": 4,
      "outputs": [
        {
          "output_type": "stream",
          "name": "stdout",
          "text": [
            "report:\n",
            "              precision    recall  f1-score   support\n",
            "\n",
            "           0       1.00      1.00      1.00     44210\n",
            "           1       0.94      0.67      0.78       114\n",
            "\n",
            "    accuracy                           1.00     44324\n",
            "   macro avg       0.97      0.83      0.89     44324\n",
            "weighted avg       1.00      1.00      1.00     44324\n",
            "\n",
            "important features:\n",
            "   feature  importance\n",
            "0   bin_18    0.129985\n",
            "1   bin_17    0.089955\n",
            "2   bin_19    0.088400\n",
            "3   bin_15    0.058184\n",
            "4   bin_21    0.056039\n",
            "5   bin_20    0.052912\n",
            "6   bin_16    0.051665\n",
            "7   bin_22    0.036209\n",
            "8   bin_14    0.030090\n",
            "9   bin_41    0.025001\n",
            "10  bin_42    0.023047\n",
            "11  bin_38    0.022302\n",
            "12  bin_37    0.020924\n",
            "13  bin_40    0.020749\n",
            "14  bin_39    0.018204\n",
            "15  bin_35    0.015554\n",
            "16  bin_34    0.015498\n",
            "17  bin_36    0.015433\n",
            "18  bin_23    0.015216\n",
            "19  bin_43    0.014749\n",
            "20  bin_45    0.013677\n",
            "21  bin_12    0.012235\n",
            "22  bin_24    0.011623\n",
            "23  bin_31    0.011365\n",
            "24  bin_13    0.011329\n",
            "25  bin_33    0.010244\n",
            "26  bin_32    0.009798\n",
            "27  bin_46    0.008913\n",
            "28  bin_44    0.008673\n",
            "29  bin_10    0.007637\n",
            "30  bin_25    0.007478\n",
            "31  bin_30    0.007303\n",
            "32  bin_48    0.007005\n",
            "33  bin_26    0.006975\n",
            "34  bin_11    0.006853\n",
            "35  bin_47    0.006686\n",
            "36  bin_29    0.006009\n",
            "37  bin_28    0.005255\n",
            "38  bin_27    0.005081\n",
            "39  bin_49    0.004807\n",
            "40   bin_6    0.002905\n",
            "41   bin_9    0.002834\n",
            "42   bin_7    0.002818\n",
            "43   bin_8    0.002536\n",
            "44   bin_5    0.002482\n",
            "45  bin_51    0.002388\n",
            "46  bin_52    0.002385\n",
            "47  bin_50    0.002230\n",
            "48   bin_3    0.002080\n",
            "49  bin_53    0.001405\n",
            "50   bin_2    0.000994\n",
            "51  bin_58    0.000843\n",
            "52  bin_55    0.000780\n",
            "53  bin_54    0.000764\n",
            "54  bin_57    0.000682\n",
            "55   bin_1    0.000652\n",
            "56  bin_56    0.000651\n",
            "57  bin_60    0.000595\n",
            "58  bin_59    0.000487\n",
            "59   bin_4    0.000424\n",
            "\n",
            "confusion matrix:\n",
            "[[44205     5]\n",
            " [   38    76]]\n"
          ]
        }
      ]
    },
    {
      "cell_type": "code",
      "source": [],
      "metadata": {
        "id": "0L91BYIJ6vs6"
      },
      "execution_count": 3,
      "outputs": []
    },
    {
      "cell_type": "code",
      "source": [],
      "metadata": {
        "id": "_FS4etw06-ks"
      },
      "execution_count": null,
      "outputs": []
    },
    {
      "cell_type": "code",
      "source": [],
      "metadata": {
        "id": "Jsh7tAiq66ST"
      },
      "execution_count": 3,
      "outputs": []
    },
    {
      "cell_type": "code",
      "source": [],
      "metadata": {
        "id": "AQMtlQmw03lb"
      },
      "execution_count": 3,
      "outputs": []
    },
    {
      "cell_type": "code",
      "source": [],
      "metadata": {
        "id": "4rqdYAvm-D8p"
      },
      "execution_count": 3,
      "outputs": []
    },
    {
      "cell_type": "code",
      "source": [],
      "metadata": {
        "id": "0TrbOBcQ5Rmr"
      },
      "execution_count": null,
      "outputs": []
    },
    {
      "cell_type": "code",
      "source": [],
      "metadata": {
        "id": "LVnBeb_p-TUp"
      },
      "execution_count": null,
      "outputs": []
    },
    {
      "cell_type": "code",
      "source": [],
      "metadata": {
        "id": "70X2Hnkdu99x"
      },
      "execution_count": null,
      "outputs": []
    },
    {
      "cell_type": "code",
      "source": [],
      "metadata": {
        "id": "Xt1oambms8Mt"
      },
      "execution_count": null,
      "outputs": []
    },
    {
      "cell_type": "code",
      "source": [],
      "metadata": {
        "id": "nl_itVCzJoFM"
      },
      "execution_count": null,
      "outputs": []
    },
    {
      "cell_type": "code",
      "source": [],
      "metadata": {
        "id": "OIu7-GhULWpl"
      },
      "execution_count": null,
      "outputs": []
    },
    {
      "cell_type": "code",
      "source": [],
      "metadata": {
        "id": "2nevjaOKMqwv"
      },
      "execution_count": null,
      "outputs": []
    },
    {
      "cell_type": "markdown",
      "source": [],
      "metadata": {
        "id": "Kun5-LA4MFZ6"
      }
    },
    {
      "cell_type": "markdown",
      "source": [],
      "metadata": {
        "id": "BtqzDRadpvgM"
      }
    }
  ]
}